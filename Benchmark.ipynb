{
 "cells": [
  {
   "cell_type": "code",
   "execution_count": 10,
   "metadata": {},
   "outputs": [
    {
     "name": "stdout",
     "output_type": "stream",
     "text": [
      "[_DeviceAttributes(/job:localhost/replica:0/task:0/device:CPU:0, CPU, 268435456, 2413327037102149955),\n",
      " _DeviceAttributes(/job:localhost/replica:0/task:0/device:GPU:0, GPU, 8802641511, 1464921315827342174)]\n",
      "Profiling\n",
      "0.1932675838470459 TFlops: 56.89\n"
     ]
    }
   ],
   "source": [
    "import os\n",
    "import pprint\n",
    "import tensorflow as tf\n",
    "\n",
    "with tf.Session() as session:\n",
    "    devices = session.list_devices()\n",
    "    \n",
    "pprint.pprint(devices)\n",
    "\n",
    "N = 4096\n",
    "COUNT = 10\n",
    "import time\n",
    "\n",
    "def flops():\n",
    "  x = tf.random_uniform([N, N])\n",
    "  y = tf.random_uniform([N, N])\n",
    "  def _matmul(x, y):\n",
    "    return tf.tensordot(x, y, axes=[[1], [0]]), y\n",
    "\n",
    "  r = []\n",
    "  for i in range(COUNT):\n",
    "        r.append(_matmul(x, y))\n",
    "        \n",
    "  return tf.reduce_sum(r)\n",
    "  \n",
    "x = flops()\n",
    "session = tf.Session()\n",
    "print('Profiling')\n",
    "start = time.time()\n",
    "session.run(x)\n",
    "end = time.time()\n",
    "elapsed = end - start\n",
    "print(elapsed, 'TFlops: {:.2f}'.format(1e-12 * 8 * COUNT * 2*N*N*N / elapsed))"
   ]
  }
 ],
 "metadata": {
  "kernelspec": {
   "display_name": "Environment (conda_tensorflow_p36)",
   "language": "python",
   "name": "conda_tensorflow_p36"
  },
  "language_info": {
   "codemirror_mode": {
    "name": "ipython",
    "version": 3
   },
   "file_extension": ".py",
   "mimetype": "text/x-python",
   "name": "python",
   "nbconvert_exporter": "python",
   "pygments_lexer": "ipython3",
   "version": "3.6.5"
  },
  "toc": {
   "base_numbering": 1,
   "nav_menu": {},
   "number_sections": true,
   "sideBar": true,
   "skip_h1_title": false,
   "title_cell": "Table of Contents",
   "title_sidebar": "Contents",
   "toc_cell": false,
   "toc_position": {},
   "toc_section_display": true,
   "toc_window_display": false
  },
  "varInspector": {
   "cols": {
    "lenName": 16,
    "lenType": 16,
    "lenVar": 40
   },
   "kernels_config": {
    "python": {
     "delete_cmd_postfix": "",
     "delete_cmd_prefix": "del ",
     "library": "var_list.py",
     "varRefreshCmd": "print(var_dic_list())"
    },
    "r": {
     "delete_cmd_postfix": ") ",
     "delete_cmd_prefix": "rm(",
     "library": "var_list.r",
     "varRefreshCmd": "cat(var_dic_list()) "
    }
   },
   "types_to_exclude": [
    "module",
    "function",
    "builtin_function_or_method",
    "instance",
    "_Feature"
   ],
   "window_display": false
  }
 },
 "nbformat": 4,
 "nbformat_minor": 2
}
