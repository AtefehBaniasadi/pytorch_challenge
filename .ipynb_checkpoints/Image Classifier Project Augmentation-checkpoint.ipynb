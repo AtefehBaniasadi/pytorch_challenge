{
 "cells": [
  {
   "cell_type": "markdown",
   "metadata": {},
   "source": [
    "# Developing an AI application\n",
    "\n",
    "Going forward, AI algorithms will be incorporated into more and more everyday applications. For example, you might want to include an image classifier in a smart phone app. To do this, you'd use a deep learning model trained on hundreds of thousands of images as part of the overall application architecture. A large part of software development in the future will be using these types of models as common parts of applications. \n",
    "\n",
    "In this project, you'll train an image classifier to recognize different species of flowers. You can imagine using something like this in a phone app that tells you the name of the flower your camera is looking at. In practice you'd train this classifier, then export it for use in your application. We'll be using [this dataset](http://www.robots.ox.ac.uk/~vgg/data/flowers/102/index.html) of 102 flower categories, you can see a few examples below. \n",
    "\n",
    "<img src='assets/Flowers.png' width=500px>\n",
    "\n",
    "The project is broken down into multiple steps:\n",
    "\n",
    "* Load and preprocess the image dataset\n",
    "* Train the image classifier on your dataset\n",
    "* Use the trained classifier to predict image content\n",
    "\n",
    "We'll lead you through each part which you'll implement in Python.\n",
    "\n",
    "When you've completed this project, you'll have an application that can be trained on any set of labeled images. Here your network will be learning about flowers and end up as a command line application. But, what you do with your new skills depends on your imagination and effort in building a dataset. For example, imagine an app where you take a picture of a car, it tells you what the make and model is, then looks up information about it. Go build your own dataset and make something new.\n",
    "\n",
    "First up is importing the packages you'll need. It's good practice to keep all the imports at the beginning of your code. As you work through this notebook and find you need to import a package, make sure to add the import up here."
   ]
  },
  {
   "cell_type": "code",
   "execution_count": 19,
   "metadata": {},
   "outputs": [
    {
     "data": {
      "text/plain": [
       "True"
      ]
     },
     "execution_count": 19,
     "metadata": {},
     "output_type": "execute_result"
    }
   ],
   "source": [
    "from torchvision import transforms, datasets\n",
    "import torch\n",
    "from torch import optim\n",
    "from torch.utils.data import DataLoader\n",
    "from torchvision import models\n",
    "import torch.nn as nn\n",
    "import torch.nn.functional as F\n",
    "\n",
    "import numpy as np\n",
    "import pandas as pd\n",
    "\n",
    "import os\n",
    "import json\n",
    "\n",
    "from PIL import Image\n",
    "from torchsummary import summary\n",
    "import matplotlib.pyplot as plt\n",
    "%matplotlib inline\n",
    "\n",
    "plt.rcParams['font.size'] = 18\n",
    "\n",
    "from timeit import default_timer as timer\n",
    "\n",
    "from IPython.core.interactiveshell import InteractiveShell\n",
    "\n",
    "InteractiveShell.ast_node_interactivity = 'all'\n",
    "\n",
    "trained_model = False\n",
    "batch_size = 16\n",
    "\n",
    "train_on_gpu = torch.cuda.is_available()\n",
    "train_on_gpu"
   ]
  },
  {
   "cell_type": "markdown",
   "metadata": {},
   "source": [
    "## Load the data\n",
    "\n",
    "Here you'll use `torchvision` to load the data ([documentation](http://pytorch.org/docs/0.3.0/torchvision/index.html)). You can [download the data here](https://s3.amazonaws.com/content.udacity-data.com/courses/nd188/flower_data.zip). The dataset is split into two parts, training and validation. For the training, you'll want to apply transformations such as random scaling, cropping, and flipping. This will help the network generalize leading to better performance. If you use a pre-trained network, you'll also need to make sure the input data is resized to 224x224 pixels as required by the networks.\n",
    "\n",
    "The validation set is used to measure the model's performance on data it hasn't seen yet. For this you don't want any scaling or rotation transformations, but you'll need to resize then crop the images to the appropriate size.\n",
    "\n",
    "The pre-trained networks available from `torchvision` were trained on the ImageNet dataset where each color channel was normalized separately. For both sets you'll need to normalize the means and standard deviations of the images to what the network expects. For the means, it's `[0.485, 0.456, 0.406]` and for the standard deviations `[0.229, 0.224, 0.225]`, calculated from the ImageNet images.  These values will shift each color channel to be centered at 0 and range from -1 to 1."
   ]
  },
  {
   "cell_type": "code",
   "execution_count": 20,
   "metadata": {},
   "outputs": [],
   "source": [
    "data_dir = '/home/ubuntu/git/flower_data'\n",
    "train_dir = data_dir + '/train'\n",
    "valid_dir = data_dir + '/valid'"
   ]
  },
  {
   "cell_type": "code",
   "execution_count": 21,
   "metadata": {},
   "outputs": [
    {
     "data": {
      "text/plain": [
       "(6552, 818)"
      ]
     },
     "execution_count": 21,
     "metadata": {},
     "output_type": "execute_result"
    }
   ],
   "source": [
    "train_n = 0\n",
    "valid_n = 0\n",
    "\n",
    "for d in os.listdir(train_dir):\n",
    "    train_n += len(os.listdir(train_dir + f'/{d}'))\n",
    "    \n",
    "for d in os.listdir(valid_dir):\n",
    "    valid_n += len(os.listdir(valid_dir + f'/{d}'))\n",
    "train_n, valid_n\n",
    "\n",
    "# TODO: Define your transforms for the training and validation sets\n",
    "image_transforms = {\n",
    "        'train': transforms.Compose([\n",
    "                 transforms.RandomResizedCrop(size=256, scale=(0.8, 1.0)),\n",
    "                 transforms.ToTensor(),\n",
    "                transforms.Normalize([0.485, 0.456, 0.406], [0.229, 0.224, 0.225]),\n",
    "                 transforms.ToPILImage(),\n",
    "                 transforms.TenCrop(size=224),\n",
    "                 transforms.Lambda(lambda crops: torch.stack([transforms.ToTensor()(crop) for crop in crops]))\n",
    "        ]),\n",
    "        'val': transforms.Compose([\n",
    "                transforms.Resize(size=256),\n",
    "                transforms.CenterCrop(size=224),\n",
    "                transforms.ToTensor(),\n",
    "                transforms.Normalize([0.485, 0.456, 0.406], [0.229, 0.224, 0.225])\n",
    "        ])\n",
    "    }\n",
    "\n",
    "batch_size = 16\n",
    "\n",
    "# Datasets\n",
    "data = {'train': datasets.ImageFolder(root=train_dir,\n",
    "                                      transform=image_transforms['train']),\n",
    "        'val': datasets.ImageFolder(root=valid_dir,\n",
    "                                     transform=image_transforms['val'])\n",
    "       }\n",
    "\n",
    "dataloaders = {'train': DataLoader(data['train'], batch_size=batch_size),\n",
    "              'val': DataLoader(data['val'], batch_size=batch_size)\n",
    "              }"
   ]
  },
  {
   "cell_type": "code",
   "execution_count": 13,
   "metadata": {},
   "outputs": [],
   "source": [
    "# from PIL import Image\n",
    "# img = Image.open('../flower_data/train/99/image_07834.jpg')\n",
    "\n",
    "# t =  transforms.Compose([\n",
    "#              transforms.RandomResizedCrop(size=256, scale=(0.8, 1.0)),\n",
    "#         transforms.ToTensor(),\n",
    "#         transforms.Normalize([0.485, 0.456, 0.406], [0.229, 0.224, 0.225]),\n",
    "#     transforms.ToPILImage(),\n",
    "#              transforms.TenCrop(size=224),\n",
    "#             transforms.Lambda(lambda crops: torch.stack([transforms.ToTensor()(crop) for crop in crops])),   \n",
    "#         ])\n",
    "\n",
    "# t(img)"
   ]
  },
  {
   "cell_type": "code",
   "execution_count": 22,
   "metadata": {},
   "outputs": [
    {
     "data": {
      "text/plain": [
       "6552"
      ]
     },
     "execution_count": 22,
     "metadata": {},
     "output_type": "execute_result"
    },
    {
     "data": {
      "text/plain": [
       "102"
      ]
     },
     "execution_count": 22,
     "metadata": {},
     "output_type": "execute_result"
    },
    {
     "data": {
      "text/plain": [
       "torch.Size([16, 3, 224, 224])"
      ]
     },
     "execution_count": 22,
     "metadata": {},
     "output_type": "execute_result"
    },
    {
     "data": {
      "text/plain": [
       "torch.Size([16, 10, 3, 224, 224])"
      ]
     },
     "execution_count": 22,
     "metadata": {},
     "output_type": "execute_result"
    }
   ],
   "source": [
    "len(dataloaders['train'].dataset.samples)\n",
    "len(dataloaders['train'].dataset.classes)\n",
    "\n",
    "validiter = iter(dataloaders['val'])\n",
    "next(validiter)[0].shape\n",
    "\n",
    "trainiter = iter(dataloaders['train'])\n",
    "next(trainiter)[0].shape"
   ]
  },
  {
   "cell_type": "markdown",
   "metadata": {},
   "source": [
    "### Label mapping\n",
    "\n",
    "You'll also need to load in a mapping from category label to category name. You can find this in the file `cat_to_name.json`. It's a JSON object which you can read in with the [`json` module](https://docs.python.org/2/library/json.html). This will give you a dictionary mapping the integer encoded categories to the actual names of the flowers."
   ]
  },
  {
   "cell_type": "code",
   "execution_count": 23,
   "metadata": {},
   "outputs": [
    {
     "data": {
      "text/plain": [
       "[('21', 'fire lily'),\n",
       " ('3', 'canterbury bells'),\n",
       " ('45', 'bolero deep blue'),\n",
       " ('1', 'pink primrose'),\n",
       " ('34', 'mexican aster'),\n",
       " ('27', 'prince of wales feathers')]"
      ]
     },
     "execution_count": 23,
     "metadata": {},
     "output_type": "execute_result"
    }
   ],
   "source": [
    "with open('cat_to_name.json', 'r') as f:\n",
    "    cat_to_name = json.load(f)\n",
    "\n",
    "list(cat_to_name.items())[:6]"
   ]
  },
  {
   "cell_type": "code",
   "execution_count": 24,
   "metadata": {},
   "outputs": [
    {
     "data": {
      "text/plain": [
       "[(0, 'pink primrose'),\n",
       " (1, 'globe thistle'),\n",
       " (2, 'blanket flower'),\n",
       " (3, 'trumpet creeper'),\n",
       " (4, 'blackberry lily'),\n",
       " (5, 'snapdragon')]"
      ]
     },
     "execution_count": 24,
     "metadata": {},
     "output_type": "execute_result"
    }
   ],
   "source": [
    "class_to_idx = data['train'].class_to_idx\n",
    "idx_to_name = {idx: cat_to_name[category] for category, idx in data['train'].class_to_idx.items()}\n",
    "list(idx_to_name.items())[:6]"
   ]
  },
  {
   "cell_type": "markdown",
   "metadata": {},
   "source": [
    "# Building and training the classifier\n",
    "\n",
    "Now that the data is ready, it's time to build and train the classifier. As usual, you should use one of the pretrained models from `torchvision.models` to get the image features. Build and train a new feed-forward classifier using those features.\n",
    "\n",
    "We're going to leave this part up to you. If you want to talk through it with someone, chat with your fellow students! You can also ask questions on the forums or join the instructors in office hours.\n",
    "\n",
    "Refer to [the rubric](https://review.udacity.com/#!/rubrics/1663/view) for guidance on successfully completing this section. Things you'll need to do:\n",
    "\n",
    "* Load a [pre-trained network](http://pytorch.org/docs/master/torchvision/models.html) (If you need a starting point, the VGG networks work great and are straightforward to use)\n",
    "* Define a new, untrained feed-forward network as a classifier, using ReLU activations and dropout\n",
    "* Train the classifier layers using backpropagation using the pre-trained network to get the features\n",
    "* Track the loss and accuracy on the validation set to determine the best hyperparameters\n",
    "\n",
    "We've left a cell open for you below, but use as many as you need. Our advice is to break the problem up into smaller parts you can run separately. Check that each part is doing what you expect, then move on to the next. You'll likely find that as you work through each part, you'll need to go back and modify your previous code. This is totally normal!\n",
    "\n",
    "When training make sure you're updating only the weights of the feed-forward network. You should be able to get the validation accuracy above 70% if you build everything right. Make sure to try different hyperparameters (learning rate, units in the classifier, epochs, etc) to find the best model. Save those hyperparameters to use as default values in the next part of the project."
   ]
  },
  {
   "cell_type": "code",
   "execution_count": 25,
   "metadata": {},
   "outputs": [
    {
     "data": {
      "text/plain": [
       "Linear(in_features=4096, out_features=1000, bias=True)"
      ]
     },
     "execution_count": 25,
     "metadata": {},
     "output_type": "execute_result"
    }
   ],
   "source": [
    "model = models.vgg16(pretrained=True)\n",
    "\n",
    "# Freeze training for all layers\n",
    "for param in model.parameters():\n",
    "    param.requires_grad = False\n",
    "    \n",
    "model.classifier[6]"
   ]
  },
  {
   "cell_type": "code",
   "execution_count": 26,
   "metadata": {},
   "outputs": [],
   "source": [
    "# Classifier module\n",
    "class Sequential(nn.Module):\n",
    "    def __init__(self, n_inputs, n_classes, drop_prob=0.2):\n",
    "        super(Sequential, self).__init__()\n",
    "        # Fully connected layer\n",
    "        self.fc1 = nn.Linear(n_inputs, int(n_inputs / 4))\n",
    "        self.fc2 = nn.Linear(int(n_inputs / 4), int(n_inputs / 8))\n",
    "        self.fc3 = nn.Linear(int(n_inputs / 8), n_classes)\n",
    "        \n",
    "        # Dropout\n",
    "        self.dropout = nn.Dropout(p=drop_prob)\n",
    "        \n",
    "        # Output layer\n",
    "        self.out = nn.LogSoftmax(dim = 1)\n",
    "    \n",
    "    def forward(self, x):\n",
    "        # add sequence of convolutional and max pooling layers\n",
    "        x = self.dropout(F.relu(self.fc1(x)))\n",
    "        x = self.dropout(F.relu(self.fc2(x)))\n",
    "        x = self.dropout(F.relu(self.fc3(x)))\n",
    "        x = self.out(x)\n",
    "        return x"
   ]
  },
  {
   "cell_type": "code",
   "execution_count": 27,
   "metadata": {},
   "outputs": [
    {
     "data": {
      "text/plain": [
       "Sequential(\n",
       "  (0): Linear(in_features=25088, out_features=4096, bias=True)\n",
       "  (1): ReLU(inplace)\n",
       "  (2): Dropout(p=0.5)\n",
       "  (3): Linear(in_features=4096, out_features=4096, bias=True)\n",
       "  (4): ReLU(inplace)\n",
       "  (5): Dropout(p=0.5)\n",
       "  (6): Linear(in_features=4096, out_features=102, bias=True)\n",
       ")"
      ]
     },
     "execution_count": 27,
     "metadata": {},
     "output_type": "execute_result"
    }
   ],
   "source": [
    "n_inputs = model.classifier[6].in_features\n",
    "n_classes = len(dataloaders['train'].dataset.classes)\n",
    "model.classifier[6] = nn.Linear(n_inputs, n_classes)\n",
    "model.classifier"
   ]
  },
  {
   "cell_type": "code",
   "execution_count": 28,
   "metadata": {},
   "outputs": [
    {
     "name": "stdout",
     "output_type": "stream",
     "text": [
      "----------------------------------------------------------------\n",
      "        Layer (type)               Output Shape         Param #\n",
      "================================================================\n",
      "            Conv2d-1       [1024, 64, 224, 224]           1,792\n",
      "              ReLU-2       [1024, 64, 224, 224]               0\n",
      "            Conv2d-3       [1024, 64, 224, 224]          36,928\n",
      "              ReLU-4       [1024, 64, 224, 224]               0\n",
      "         MaxPool2d-5       [1024, 64, 112, 112]               0\n",
      "            Conv2d-6      [1024, 128, 112, 112]          73,856\n",
      "              ReLU-7      [1024, 128, 112, 112]               0\n",
      "            Conv2d-8      [1024, 128, 112, 112]         147,584\n",
      "              ReLU-9      [1024, 128, 112, 112]               0\n",
      "        MaxPool2d-10        [1024, 128, 56, 56]               0\n",
      "           Conv2d-11        [1024, 256, 56, 56]         295,168\n",
      "             ReLU-12        [1024, 256, 56, 56]               0\n",
      "           Conv2d-13        [1024, 256, 56, 56]         590,080\n",
      "             ReLU-14        [1024, 256, 56, 56]               0\n",
      "           Conv2d-15        [1024, 256, 56, 56]         590,080\n",
      "             ReLU-16        [1024, 256, 56, 56]               0\n",
      "        MaxPool2d-17        [1024, 256, 28, 28]               0\n",
      "           Conv2d-18        [1024, 512, 28, 28]       1,180,160\n",
      "             ReLU-19        [1024, 512, 28, 28]               0\n",
      "           Conv2d-20        [1024, 512, 28, 28]       2,359,808\n",
      "             ReLU-21        [1024, 512, 28, 28]               0\n",
      "           Conv2d-22        [1024, 512, 28, 28]       2,359,808\n",
      "             ReLU-23        [1024, 512, 28, 28]               0\n",
      "        MaxPool2d-24        [1024, 512, 14, 14]               0\n",
      "           Conv2d-25        [1024, 512, 14, 14]       2,359,808\n",
      "             ReLU-26        [1024, 512, 14, 14]               0\n",
      "           Conv2d-27        [1024, 512, 14, 14]       2,359,808\n",
      "             ReLU-28        [1024, 512, 14, 14]               0\n",
      "           Conv2d-29        [1024, 512, 14, 14]       2,359,808\n",
      "             ReLU-30        [1024, 512, 14, 14]               0\n",
      "        MaxPool2d-31          [1024, 512, 7, 7]               0\n",
      "           Linear-32               [1024, 4096]     102,764,544\n",
      "             ReLU-33               [1024, 4096]               0\n",
      "          Dropout-34               [1024, 4096]               0\n",
      "           Linear-35               [1024, 4096]      16,781,312\n",
      "             ReLU-36               [1024, 4096]               0\n",
      "          Dropout-37               [1024, 4096]               0\n",
      "           Linear-38                [1024, 102]         417,894\n",
      "================================================================\n",
      "Total params: 134,678,438\n",
      "Trainable params: 417,894\n",
      "Non-trainable params: 134,260,544\n",
      "----------------------------------------------------------------\n",
      "Input size (MB): 588.00\n",
      "Forward/backward pass size (MB): 223828.80\n",
      "Params size (MB): 513.76\n",
      "Estimated Total Size (MB): 224930.55\n",
      "----------------------------------------------------------------\n"
     ]
    }
   ],
   "source": [
    "# TODO: Build and train your network\n",
    "if train_on_gpu:\n",
    "    model = model.to('cuda')\n",
    "from torchsummary import summary\n",
    "summary(model, input_size = (3, 224, 224), batch_size = 1024)"
   ]
  },
  {
   "cell_type": "code",
   "execution_count": 29,
   "metadata": {},
   "outputs": [
    {
     "name": "stdout",
     "output_type": "stream",
     "text": [
      "torch.Size([102, 4096])\n",
      "torch.Size([102])\n"
     ]
    }
   ],
   "source": [
    "for param in model.parameters():\n",
    "    if param.requires_grad:\n",
    "        print(param.shape)"
   ]
  },
  {
   "cell_type": "code",
   "execution_count": 30,
   "metadata": {},
   "outputs": [
    {
     "name": "stdout",
     "output_type": "stream",
     "text": [
      "Total parameters: 134,678,438. Trainable parameters: 417,894.\n"
     ]
    }
   ],
   "source": [
    "total_params = sum(p.numel() for p in model.parameters())\n",
    "trainable_params = sum(p.numel() for p in model.parameters() if p.requires_grad)\n",
    "print(f'Total parameters: {total_params:,}. Trainable parameters: {trainable_params:,}.')"
   ]
  },
  {
   "cell_type": "code",
   "execution_count": 53,
   "metadata": {},
   "outputs": [],
   "source": [
    "n_epochs = 20\n",
    "max_epochs_stop = 3\n",
    "\n",
    "save_file_name = 'aug_try.pt'"
   ]
  },
  {
   "cell_type": "code",
   "execution_count": null,
   "metadata": {},
   "outputs": [],
   "source": [
    "for ii, (data, target) in enumerate(train_loader):\n",
    "            bs, ncrops, c, h, w = data.size()\n",
    "            \n",
    "            # move tensors to GPU if CUDA is available\n",
    "            if train_on_gpu:\n",
    "                data, target = data.cuda(), target.cuda()\n",
    "            # clear the gradients of all optimized variables\n",
    "            optimizer.zero_grad()\n",
    "            # forward pass: compute predicted outputs by passing inputs to the model\n",
    "            # Fuse batch size and the number of crops\n",
    "            output = model(data.view(-1, c, h, w))\n",
    "\n",
    "            # Take average over the crops\n",
    "            output = output.view(bs, ncrops, -1).mean(1)\n",
    "            \n",
    "            # calculate the batch loss\n",
    "            loss = criterion(output, target)\n",
    "            # backward pass: compute gradient of the loss with respect to model parameters\n",
    "            loss.backward()\n",
    "            # perform a single optimization step (parameter update)\n",
    "            optimizer.step()\n",
    "            # update training loss\n",
    "            train_loss += loss.item()\n",
    "\n",
    "            # Calculate accuracy\n",
    "            _, pred = torch.max(output, dim = 1)\n",
    "            correct_tensor = pred.eq(target.data.view_as(pred))\n",
    "            accuracy = torch.mean(correct_tensor.type(torch.FloatTensor))\n",
    "            train_acc += accuracy.item()"
   ]
  },
  {
   "cell_type": "code",
   "execution_count": 33,
   "metadata": {},
   "outputs": [],
   "source": [
    "def train(model, criterion, optimizer, train_loader, valid_loader, save_file_name,\n",
    "          max_epochs_stop=3, n_epochs=20):\n",
    "\n",
    "    # Early stopping details\n",
    "    epochs_no_improve = 0\n",
    "    valid_loss_min = np.Inf\n",
    "    \n",
    "    # Number of epochs already trained\n",
    "    try:\n",
    "        print(f'Current training epochs: {model.epochs}.')\n",
    "    except:\n",
    "        model.epochs = 0\n",
    "        print(f'Starting Training from Scratch.')\n",
    "        \n",
    "    overall_start = timer()\n",
    "    # Iterate through epochs\n",
    "    for epoch in range(n_epochs):\n",
    "\n",
    "        # keep track of training and validation loss\n",
    "        train_loss = 0.0\n",
    "        valid_loss = 0.0\n",
    "\n",
    "        train_acc = 0\n",
    "        valid_acc = 0\n",
    "\n",
    "        model.train()\n",
    "        \n",
    "        start = timer()\n",
    "        # Training loop\n",
    "        for ii, (data, target) in enumerate(train_loader):\n",
    "            bs, crops, c, h, w= data.size()\n",
    "            \n",
    "            # Tensors on gpu\n",
    "            if train_on_gpu:\n",
    "                data, target = data.cuda(), target.cuda()\n",
    "            \n",
    "            # Clear gradients\n",
    "            optimizer.zero_grad()\n",
    "            \n",
    "            # Predicted outputs\n",
    "            # outputs are not probabilities\n",
    "            output = model(data.view(-1, c, h, w))\n",
    "            output = output.view(bs, crops, -1).mean(1)\n",
    "        \n",
    "            # Loss and backpropagation\n",
    "            loss = criterion(output, target)\n",
    "            loss.backward()\n",
    "            \n",
    "            # Update the parameters\n",
    "            optimizer.step()\n",
    "            \n",
    "            # Track train loss\n",
    "            train_loss += loss.item()\n",
    "\n",
    "            # Calculate accuracy by finding max probability\n",
    "            _, pred = torch.max(output, dim = 1)\n",
    "            correct_tensor = pred.eq(target.data.view_as(pred))\n",
    "            accuracy = torch.mean(correct_tensor.type(torch.FloatTensor))\n",
    "            train_acc += accuracy.item()\n",
    "            \n",
    "            # Track training\n",
    "            print(\n",
    "                f'Epoch: {epoch}\\t{100 * ii / len(train_loader):.2f}% complete. {timer() - start:.2f} seconds elapsed.', end='\\r')\n",
    "        \n",
    "        # After training loops ends\n",
    "        else:\n",
    "            model.epochs += 1\n",
    "            \n",
    "            # Don't need to keep track of gradients\n",
    "            with torch.no_grad():\n",
    "                model.eval()\n",
    "                # Validation loop\n",
    "                for data, target in valid_loader:\n",
    "                    # Tensors to gpu\n",
    "                    if train_on_gpu:\n",
    "                        data, target = data.cuda(), target.cuda()\n",
    "                        \n",
    "                    # Forward pass\n",
    "                    output = model(data)\n",
    "                    # Validation loss\n",
    "                    loss = criterion(output, target)\n",
    "                    valid_loss += loss.item()\n",
    "\n",
    "                    # Calculate validation accuracy\n",
    "                    _, pred = torch.max(output, dim = 1)\n",
    "                    correct_tensor = pred.eq(target.data.view_as(pred))\n",
    "                    accuracy = torch.mean(correct_tensor.type(torch.FloatTensor))\n",
    "                    valid_acc += accuracy.item()\n",
    "\n",
    "                # Calculate average losses\n",
    "                train_loss = train_loss/len(train_loader)\n",
    "                valid_loss = valid_loss/len(valid_loader)\n",
    "                # Calculate average accuracy\n",
    "                train_acc = train_acc/len(train_loader)\n",
    "                valid_acc = valid_acc/len(valid_loader)\n",
    "\n",
    "                # Print training and validation results\n",
    "                print('\\nEpoch: {} \\tTraining Loss: {:.6f} \\tValidation Loss: {:.6f}'.format(\n",
    "                    epoch, train_loss, valid_loss))\n",
    "                print(\n",
    "                    f'Training Accuracy: {100 * train_acc:.2f}%\\t Validation Accuracy: {100 * valid_acc:.2f}%')\n",
    "\n",
    "                # Save the model if validation loss decreases\n",
    "                if valid_loss < valid_loss_min - 0.01:\n",
    "                    print('Validation loss decreased ({:.6f} --> {:.6f}).  Saving model ...'.format(\n",
    "                        valid_loss_min,\n",
    "                        valid_loss))\n",
    "                    # Save model\n",
    "                    torch.save(model.state_dict(), save_file_name)\n",
    "                    epochs_no_improve = 0\n",
    "                    valid_loss_min = valid_loss\n",
    "                # Otherwise increment count of epochs with no improvement\n",
    "                else:\n",
    "                    epochs_no_improve += 1\n",
    "                    print(f'{epochs_no_improve} epochs with no improvement.')\n",
    "                    if epochs_no_improve >= max_epochs_stop:\n",
    "                        print('Early Stopping')\n",
    "                        total_time = timer() - overall_start\n",
    "                        print(f'{total_time:.2f} total seconds elapsed. {total_time / (epoch+1):.2f} seconds per epoch.')\n",
    "                        break"
   ]
  },
  {
   "cell_type": "code",
   "execution_count": null,
   "metadata": {},
   "outputs": [
    {
     "name": "stdout",
     "output_type": "stream",
     "text": [
      "Current training epochs: 0.\n",
      "Epoch: 0\t99.76% complete. 840.24 seconds elapsed.\n",
      "Epoch: 0 \tTraining Loss: 11.064496 \tValidation Loss: 10.980816\n",
      "Training Accuracy: 4.15%\t Validation Accuracy: 1.56%\n",
      "Validation loss decreased (inf --> 10.980816).  Saving model ...\n",
      "Epoch: 1\t99.76% complete. 824.47 seconds elapsed.\n",
      "Epoch: 1 \tTraining Loss: 9.925443 \tValidation Loss: 14.260832\n",
      "Training Accuracy: 3.11%\t Validation Accuracy: 1.92%\n",
      "1 epochs with no improvement.\n",
      "Epoch: 2\t7.56% complete. 64.31 seconds elapsed.\r"
     ]
    }
   ],
   "source": [
    "criterion = nn.CrossEntropyLoss()\n",
    "optimizer = optim.Adam(model.parameters())\n",
    "\n",
    "train(model, criterion, optimizer,\n",
    "      dataloaders['train'], dataloaders['val'],\n",
    "      save_file_name='aug.pt', n_epochs = 25)"
   ]
  },
  {
   "cell_type": "markdown",
   "metadata": {},
   "source": [
    "## Save the checkpoint\n",
    "\n",
    "Now that your network is trained, save the model so you can load it later for making predictions. You probably want to save other things such as the mapping of classes to indices which you get from one of the image datasets: `image_datasets['train'].class_to_idx`. You can attach this to the model as an attribute which makes inference easier later on.\n",
    "\n",
    "```model.class_to_idx = image_datasets['train'].class_to_idx```\n",
    "\n",
    "Remember that you'll want to completely rebuild the model later so you can use it for inference. Make sure to include any information you need in the checkpoint. If you want to load the model and keep training, you'll want to save the number of epochs as well as the optimizer state, `optimizer.state_dict`. You'll likely want to use this trained model in the next part of the project, so best to save it now."
   ]
  },
  {
   "cell_type": "code",
   "execution_count": null,
   "metadata": {},
   "outputs": [],
   "source": [
    "def save_checkpoint(model, optimizer, path, save_cpu=False):\n",
    "    if save_cpu:\n",
    "        model = model.to('cpu')\n",
    "        path = path.split('.')[0] + '-cpu.pth'\n",
    "    \n",
    "    checkpoint = {\n",
    "        'cat_to_name': cat_to_name,\n",
    "        'class_to_idx': data['train'].class_to_idx,\n",
    "        'idx_to_name': idx_to_name,\n",
    "        'epochs': model.epochs,\n",
    "        'classifier': model.classifier,\n",
    "        'state_dict': model.state_dict(),\n",
    "        'optimizer_state_dict': optimizer.state_dict()\n",
    "    }\n",
    "    \n",
    "    torch.save(checkpoint, path)\n",
    "    \n",
    "save_checkpoint(model, optimizer, 'vgg16-aug.pth')"
   ]
  },
  {
   "cell_type": "markdown",
   "metadata": {},
   "source": [
    "## Loading the checkpoint\n",
    "\n",
    "At this point it's good to write a function that can load a checkpoint and rebuild the model. That way you can come back to this project and keep working on it without having to retrain the network."
   ]
  },
  {
   "cell_type": "code",
   "execution_count": null,
   "metadata": {},
   "outputs": [],
   "source": [
    "# TODO: Write a function that loads a checkpoint and rebuilds the model\n",
    "def load_checkpoint(filepath, model):\n",
    "    # Make sure to set parameters as not trainable\n",
    "    for param in model.parameters():\n",
    "        param.requires_grad = False\n",
    "        \n",
    "    # Load in checkpoint\n",
    "    checkpoint = torch.load(filepath)\n",
    "    # Extract classifier\n",
    "    model.classifier = checkpoint['classifier']\n",
    "    model.cat_to_name = checkpoint['cat_to_name']\n",
    "    model.class_to_idx = checkpoint['class_to_idx']\n",
    "    model.idx_to_name = checkpoint['idx_to_name']\n",
    "    model.epochs = checkpoint['epochs']\n",
    "    \n",
    "    # Load in the state dict\n",
    "    model.load_state_dict(checkpoint['state_dict'])\n",
    "    \n",
    "    if train_on_gpu:\n",
    "        model = model.to('cuda')\n",
    "    \n",
    "    optimizer = optim.Adam(model.parameters())\n",
    "    optimizer.load_state_dict(checkpoint['optimizer_state_dict'])\n",
    "    \n",
    "    total_params = sum(p.numel() for p in model.parameters())\n",
    "    print(f'{total_params:,} total parameters.')\n",
    "    total_trainable_params = sum(p.numel() for p in model.parameters() if p.requires_grad)\n",
    "    print(f'{total_trainable_params:,} total gradient parameters.')\n",
    "    print(f'Model has been trained for {model.epochs} epochs.')\n",
    "    \n",
    "    return model, optimizer\n",
    "\n",
    "model, optimizer = load_checkpoint('vgg16-aug.pth', models.vgg16(pretrained=True))\n",
    "summary(model)"
   ]
  },
  {
   "cell_type": "markdown",
   "metadata": {},
   "source": [
    "# Inference for classification\n",
    "\n",
    "Now you'll write a function to use a trained network for inference. That is, you'll pass an image into the network and predict the class of the flower in the image. Write a function called `predict` that takes an image and a model, then returns the top $K$ most likely classes along with the probabilities. It should look like \n",
    "\n",
    "```python\n",
    "probs, classes = predict(image_path, model)\n",
    "print(probs)\n",
    "print(classes)\n",
    "> [ 0.01558163  0.01541934  0.01452626  0.01443549  0.01407339]\n",
    "> ['70', '3', '45', '62', '55']\n",
    "```\n",
    "\n",
    "First you'll need to handle processing the input image such that it can be used in your network. \n",
    "\n",
    "## Image Preprocessing\n",
    "\n",
    "You'll want to use `PIL` to load the image ([documentation](https://pillow.readthedocs.io/en/latest/reference/Image.html)). It's best to write a function that preprocesses the image so it can be used as input for the model. This function should process the images in the same manner used for training. \n",
    "\n",
    "First, resize the images where the shortest side is 256 pixels, keeping the aspect ratio. This can be done with the [`thumbnail`](http://pillow.readthedocs.io/en/3.1.x/reference/Image.html#PIL.Image.Image.thumbnail) or [`resize`](http://pillow.readthedocs.io/en/3.1.x/reference/Image.html#PIL.Image.Image.thumbnail) methods. Then you'll need to crop out the center 224x224 portion of the image.\n",
    "\n",
    "Color channels of images are typically encoded as integers 0-255, but the model expected floats 0-1. You'll need to convert the values. It's easiest with a Numpy array, which you can get from a PIL image like so `np_image = np.array(pil_image)`.\n",
    "\n",
    "As before, the network expects the images to be normalized in a specific way. For the means, it's `[0.485, 0.456, 0.406]` and for the standard deviations `[0.229, 0.224, 0.225]`. You'll want to subtract the means from each color channel, then divide by the standard deviation. \n",
    "\n",
    "And finally, PyTorch expects the color channel to be the first dimension but it's the third dimension in the PIL image and Numpy array. You can reorder dimensions using [`ndarray.transpose`](https://docs.scipy.org/doc/numpy-1.13.0/reference/generated/numpy.ndarray.transpose.html). The color channel needs to be first and retain the order of the other two dimensions."
   ]
  },
  {
   "cell_type": "code",
   "execution_count": null,
   "metadata": {},
   "outputs": [],
   "source": [
    "from PIL import Image\n",
    "import matplotlib.pyplot as plt\n",
    "%matplotlib inline\n",
    "\n",
    "img = Image.open('../flower_data/valid/10/image_07094.jpg')\n",
    "plt.imshow(img)"
   ]
  },
  {
   "cell_type": "code",
   "execution_count": null,
   "metadata": {},
   "outputs": [],
   "source": [
    "img = img.resize((256, 256))\n",
    "width = 256\n",
    "height = 256\n",
    "new_width = 224\n",
    "new_height = 224\n",
    "\n",
    "left = (width - new_width)/2\n",
    "top = (height - new_height)/2\n",
    "right = (width + new_width)/2\n",
    "bottom = (height + new_height)/2\n",
    "\n",
    "img = img.crop((left, top, right, bottom))\n",
    "plt.imshow(img)"
   ]
  },
  {
   "cell_type": "code",
   "execution_count": null,
   "metadata": {},
   "outputs": [],
   "source": [
    "img = np.array(img).transpose((2, 0, 1)) / 256"
   ]
  },
  {
   "cell_type": "code",
   "execution_count": null,
   "metadata": {},
   "outputs": [],
   "source": [
    "means = np.array([0.485, 0.456, 0.406]).reshape((3, 1, 1))\n",
    "stds = np.array([0.229, 0.224, 0.225]).reshape((3, 1, 1))\n",
    "\n",
    "img = img - means\n",
    "img = img / stds\n",
    "\n",
    "torch.Tensor(img)"
   ]
  },
  {
   "cell_type": "code",
   "execution_count": null,
   "metadata": {},
   "outputs": [],
   "source": [
    "def process_image(image_path):\n",
    "    ''' Scales, crops, and normalizes a PIL image for a PyTorch model,\n",
    "        returns an Numpy array\n",
    "    '''\n",
    "    \n",
    "    image = Image.open(image_path)\n",
    "    # Resize\n",
    "    img = image.resize((256, 256))\n",
    "    \n",
    "    # Center crop\n",
    "    width = 256\n",
    "    height = 256\n",
    "    new_width = 224\n",
    "    new_height = 224\n",
    "\n",
    "    left = (width - new_width)/2\n",
    "    top = (height - new_height)/2\n",
    "    right = (width + new_width)/2\n",
    "    bottom = (height + new_height)/2\n",
    "    img = img.crop((left, top, right, bottom))\n",
    "    \n",
    "    # Convert to numpy, transpose color dimension and normalize\n",
    "    img = np.array(img).transpose((2, 0, 1)) / 256\n",
    "    \n",
    "    # Standardization\n",
    "    means = np.array([0.485, 0.456, 0.406]).reshape((3, 1, 1))\n",
    "    stds = np.array([0.229, 0.224, 0.225]).reshape((3, 1, 1))\n",
    "\n",
    "    img = img - means\n",
    "    img = img / stds\n",
    "\n",
    "    img_tensor = torch.Tensor(img)\n",
    "    \n",
    "    return img_tensor\n",
    "    # TODO: Process a PIL image for use in a PyTorch model"
   ]
  },
  {
   "cell_type": "code",
   "execution_count": null,
   "metadata": {},
   "outputs": [],
   "source": [
    "img = process_image('../flower_data/valid/11/image_03125.jpg')"
   ]
  },
  {
   "cell_type": "markdown",
   "metadata": {},
   "source": [
    "To check your work, the function below converts a PyTorch tensor and displays it in the notebook. If your `process_image` function works, running the output through this function should return the original image (except for the cropped out portions)."
   ]
  },
  {
   "cell_type": "code",
   "execution_count": null,
   "metadata": {},
   "outputs": [],
   "source": [
    "def imshow(image, ax=None, title=None):\n",
    "    \"\"\"Imshow for Tensor.\"\"\"\n",
    "    if ax is None:\n",
    "        fig, ax = plt.subplots()\n",
    "    \n",
    "    # PyTorch tensors assume the color channel is the first dimension\n",
    "    # but matplotlib assumes is the third dimension\n",
    "    image = image.numpy().transpose((1, 2, 0))\n",
    "    \n",
    "    # Undo preprocessing\n",
    "    mean = np.array([0.485, 0.456, 0.406])\n",
    "    std = np.array([0.229, 0.224, 0.225])\n",
    "    image = std * image + mean\n",
    "    \n",
    "    # Image needs to be clipped between 0 and 1 or it looks like noise when displayed\n",
    "    image = np.clip(image, 0, 1)\n",
    "    \n",
    "    ax.imshow(image)\n",
    "    \n",
    "    return ax, image"
   ]
  },
  {
   "cell_type": "code",
   "execution_count": null,
   "metadata": {},
   "outputs": [],
   "source": [
    "ax, image = imshow(img)"
   ]
  },
  {
   "cell_type": "markdown",
   "metadata": {},
   "source": [
    "## Class Prediction\n",
    "\n",
    "Once you can get images in the correct format, it's time to write a function for making predictions with your model. A common practice is to predict the top 5 or so (usually called top-$K$) most probable classes. You'll want to calculate the class probabilities then find the $K$ largest values.\n",
    "\n",
    "To get the top $K$ largest values in a tensor use [`x.topk(k)`](http://pytorch.org/docs/master/torch.html#torch.topk). This method returns both the highest `k` probabilities and the indices of those probabilities corresponding to the classes. You need to convert from these indices to the actual class labels using `class_to_idx` which hopefully you added to the model or from an `ImageFolder` you used to load the data ([see here](#Save-the-checkpoint)). Make sure to invert the dictionary so you get a mapping from index to class as well.\n",
    "\n",
    "Again, this method should take a path to an image and a model checkpoint, then return the probabilities and classes.\n",
    "\n",
    "```python\n",
    "probs, classes = predict(image_path, model)\n",
    "print(probs)\n",
    "print(classes)\n",
    "> [ 0.01558163  0.01541934  0.01452626  0.01443549  0.01407339]\n",
    "> ['70', '3', '45', '62', '55']\n",
    "```"
   ]
  },
  {
   "cell_type": "code",
   "execution_count": null,
   "metadata": {},
   "outputs": [],
   "source": [
    "def predict(image_path, model, topk=5):\n",
    "    ''' Predict the class (or classes) of an image using a trained deep learning model.\n",
    "    '''\n",
    "    img_tensor = process_image(image_path)\n",
    "    \n",
    "    if train_on_gpu:\n",
    "        img_tensor = img_tensor.view(1, 3, 224, 224).cuda()\n",
    "    else:\n",
    "        img_tensor = img_tensor.view(1, 3, 224, 224)\n",
    "    \n",
    "    with torch.no_grad():\n",
    "        model.eval()\n",
    "        out = model(img_tensor)\n",
    "        log_ps = torch.softmax(out, dim = 1)\n",
    "        ps = torch.exp(out)\n",
    "        topk, topclass = ps.topk(topk, dim = 1)\n",
    "\n",
    "        top_classes = [model.idx_to_name[class_] for class_ in topclass.cpu().numpy()[0]]\n",
    "        return topk.cpu().numpy()[0], top_classes\n",
    "\n",
    "# TODO: Implement the code to predict the class from an image file"
   ]
  },
  {
   "cell_type": "code",
   "execution_count": null,
   "metadata": {},
   "outputs": [],
   "source": [
    "ex_path = '../flower_data/train/20/image_04897.jpg'\n",
    "k, classes = predict(ex_path, model)"
   ]
  },
  {
   "cell_type": "code",
   "execution_count": null,
   "metadata": {},
   "outputs": [],
   "source": [
    "k, classes"
   ]
  },
  {
   "cell_type": "code",
   "execution_count": null,
   "metadata": {},
   "outputs": [],
   "source": [
    "model.idx_to_name[model.class_to_idx['20']]"
   ]
  },
  {
   "cell_type": "markdown",
   "metadata": {},
   "source": [
    "## Sanity Checking\n",
    "\n",
    "Now that you can use a trained model for predictions, check to make sure it makes sense. Even if the validation accuracy is high, it's always good to check that there aren't obvious bugs. Use `matplotlib` to plot the probabilities for the top 5 classes as a bar graph, along with the input image. It should look like this:\n",
    "\n",
    "<img src='assets/inference_example.png' width=300px>\n",
    "\n",
    "You can convert from the class integer encoding to actual flower names with the `cat_to_name.json` file (should have been loaded earlier in the notebook). To show a PyTorch tensor as an image, use the `imshow` function defined above."
   ]
  },
  {
   "cell_type": "code",
   "execution_count": null,
   "metadata": {},
   "outputs": [],
   "source": [
    "# TODO: Display an image along with the top 5 classes"
   ]
  }
 ],
 "metadata": {
  "kernelspec": {
   "display_name": "Environment (conda_pytorch_p36)",
   "language": "python",
   "name": "conda_pytorch_p36"
  },
  "language_info": {
   "codemirror_mode": {
    "name": "ipython",
    "version": 3
   },
   "file_extension": ".py",
   "mimetype": "text/x-python",
   "name": "python",
   "nbconvert_exporter": "python",
   "pygments_lexer": "ipython3",
   "version": "3.6.5"
  },
  "toc": {
   "base_numbering": 1,
   "nav_menu": {},
   "number_sections": true,
   "sideBar": true,
   "skip_h1_title": false,
   "title_cell": "Table of Contents",
   "title_sidebar": "Contents",
   "toc_cell": false,
   "toc_position": {},
   "toc_section_display": true,
   "toc_window_display": false
  },
  "varInspector": {
   "cols": {
    "lenName": 16,
    "lenType": 16,
    "lenVar": 40
   },
   "kernels_config": {
    "python": {
     "delete_cmd_postfix": "",
     "delete_cmd_prefix": "del ",
     "library": "var_list.py",
     "varRefreshCmd": "print(var_dic_list())"
    },
    "r": {
     "delete_cmd_postfix": ") ",
     "delete_cmd_prefix": "rm(",
     "library": "var_list.r",
     "varRefreshCmd": "cat(var_dic_list()) "
    }
   },
   "types_to_exclude": [
    "module",
    "function",
    "builtin_function_or_method",
    "instance",
    "_Feature"
   ],
   "window_display": false
  }
 },
 "nbformat": 4,
 "nbformat_minor": 2
}
